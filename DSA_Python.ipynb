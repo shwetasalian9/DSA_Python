{
  "nbformat": 4,
  "nbformat_minor": 0,
  "metadata": {
    "colab": {
      "provenance": [],
      "authorship_tag": "ABX9TyPHEycQbGw/T0d7eodNeRkh",
      "include_colab_link": true
    },
    "kernelspec": {
      "name": "python3",
      "display_name": "Python 3"
    },
    "language_info": {
      "name": "python"
    }
  },
  "cells": [
    {
      "cell_type": "markdown",
      "metadata": {
        "id": "view-in-github",
        "colab_type": "text"
      },
      "source": [
        "<a href=\"https://colab.research.google.com/github/shwetasalian9/DSA_Python/blob/main/DSA_Python.ipynb\" target=\"_parent\"><img src=\"https://colab.research.google.com/assets/colab-badge.svg\" alt=\"Open In Colab\"/></a>"
      ]
    },
    {
      "cell_type": "markdown",
      "source": [
        "## Array DataStructure"
      ],
      "metadata": {
        "id": "8ihogwhJ35FE"
      }
    },
    {
      "cell_type": "markdown",
      "source": [
        "Let us say your expense for every month are listed below,\n",
        "January - 2200\n",
        "February - 2350\n",
        "March - 2600\n",
        "April - 2130\n",
        "May - 2190\n",
        "Create a list to store these monthly expenses and using that find out,"
      ],
      "metadata": {
        "id": "4d4aPRrN4C5B"
      }
    },
    {
      "cell_type": "markdown",
      "source": [
        "In Feb, how many dollars you spent extra compare to January?"
      ],
      "metadata": {
        "id": "-JvuNZd-4Sda"
      }
    },
    {
      "cell_type": "code",
      "execution_count": null,
      "metadata": {
        "id": "jP8yHoFm3h4U"
      },
      "outputs": [],
      "source": [
        "expense = [2200, 2350, 2600, 2130]"
      ]
    },
    {
      "cell_type": "code",
      "source": [
        "extra_spent_on_feb = expense[1] - expense[0]\n",
        "extra_spent_on_feb"
      ],
      "metadata": {
        "id": "bAt1zVIu4rhk",
        "outputId": "382b2216-91ca-4d03-d3f9-003e68b5cd08",
        "colab": {
          "base_uri": "https://localhost:8080/"
        }
      },
      "execution_count": null,
      "outputs": [
        {
          "output_type": "execute_result",
          "data": {
            "text/plain": [
              "150"
            ]
          },
          "metadata": {},
          "execution_count": 2
        }
      ]
    },
    {
      "cell_type": "markdown",
      "source": [
        "Find out your total expense in first quarter (first three months) of the year."
      ],
      "metadata": {
        "id": "C7dkr3nx47YF"
      }
    },
    {
      "cell_type": "code",
      "source": [
        "total_expense_first_quarter = expense[0] + expense[1] + expense[2]\n",
        "total_expense_first_quarter"
      ],
      "metadata": {
        "id": "aeY09hpk5xI_",
        "outputId": "cdf03d0e-15a0-405e-dc3a-dac8db275e16",
        "colab": {
          "base_uri": "https://localhost:8080/"
        }
      },
      "execution_count": null,
      "outputs": [
        {
          "output_type": "execute_result",
          "data": {
            "text/plain": [
              "7150"
            ]
          },
          "metadata": {},
          "execution_count": 3
        }
      ]
    },
    {
      "cell_type": "markdown",
      "source": [
        "Find out if you spent exactly 2000 dollars in any month"
      ],
      "metadata": {
        "id": "ERgHmNe56cIB"
      }
    },
    {
      "cell_type": "code",
      "source": [
        "for exp in expense:\n",
        "  if exp == 2000 :\n",
        "    print(\"Expense spent 2000\")\n",
        "    break"
      ],
      "metadata": {
        "id": "34aZ_Adj6fFq"
      },
      "execution_count": null,
      "outputs": []
    },
    {
      "cell_type": "markdown",
      "source": [
        "June month just finished and your expense is 1980 dollar. Add this item to our monthly expense list"
      ],
      "metadata": {
        "id": "3RMFJZzd67Av"
      }
    },
    {
      "cell_type": "code",
      "source": [
        "expense.append(1980)\n",
        "expense"
      ],
      "metadata": {
        "id": "e0AJbMcl7CaI",
        "outputId": "04f469d7-7df9-4f6d-9e15-7a6c9c69803e",
        "colab": {
          "base_uri": "https://localhost:8080/"
        }
      },
      "execution_count": null,
      "outputs": [
        {
          "output_type": "execute_result",
          "data": {
            "text/plain": [
              "[2200, 2350, 2600, 2130, 1980]"
            ]
          },
          "metadata": {},
          "execution_count": 9
        }
      ]
    },
    {
      "cell_type": "markdown",
      "source": [
        "You returned an item that you bought in a month of April and\n",
        "got a refund of 200$. Make a correction to your monthly expense list\n",
        "based on this"
      ],
      "metadata": {
        "id": "xUA_OVhW7KnE"
      }
    },
    {
      "cell_type": "code",
      "source": [
        "expense[3] = expense[3] - 200\n",
        "expense"
      ],
      "metadata": {
        "id": "NnhE8lpy7VVJ",
        "outputId": "a07421a1-25cb-4952-947d-8b575980cb83",
        "colab": {
          "base_uri": "https://localhost:8080/"
        }
      },
      "execution_count": null,
      "outputs": [
        {
          "output_type": "execute_result",
          "data": {
            "text/plain": [
              "[2200, 2350, 2600, 1930, 1980]"
            ]
          },
          "metadata": {},
          "execution_count": 10
        }
      ]
    },
    {
      "cell_type": "markdown",
      "source": [
        "You have a list of your favourite marvel super heros."
      ],
      "metadata": {
        "id": "zbZNjDTV7j4M"
      }
    },
    {
      "cell_type": "code",
      "source": [
        "heros=['spider man','thor','hulk','iron man','captain america']"
      ],
      "metadata": {
        "id": "hihFFYXr7lin"
      },
      "execution_count": null,
      "outputs": []
    },
    {
      "cell_type": "markdown",
      "source": [
        "1. Length of the list"
      ],
      "metadata": {
        "id": "-WL0Qyjr7wPA"
      }
    },
    {
      "cell_type": "code",
      "source": [
        "length_heros = len(heros)\n",
        "length_heros"
      ],
      "metadata": {
        "id": "PdxgMjan7tNz",
        "outputId": "d6ee6e1a-57b3-4870-b181-bee7bdd69397",
        "colab": {
          "base_uri": "https://localhost:8080/"
        }
      },
      "execution_count": null,
      "outputs": [
        {
          "output_type": "execute_result",
          "data": {
            "text/plain": [
              "5"
            ]
          },
          "metadata": {},
          "execution_count": 12
        }
      ]
    },
    {
      "cell_type": "markdown",
      "source": [
        "2. Add 'black panther' at the end of this list"
      ],
      "metadata": {
        "id": "OiD7OHsu79nJ"
      }
    },
    {
      "cell_type": "code",
      "source": [
        "heros.append('black panther')\n",
        "heros"
      ],
      "metadata": {
        "id": "S-sMcghU782G",
        "outputId": "d86d1fdb-1231-43a3-908a-05088e1f2048",
        "colab": {
          "base_uri": "https://localhost:8080/"
        }
      },
      "execution_count": null,
      "outputs": [
        {
          "output_type": "execute_result",
          "data": {
            "text/plain": [
              "['spider man', 'thor', 'hulk', 'iron man', 'captain america', 'black panther']"
            ]
          },
          "metadata": {},
          "execution_count": 13
        }
      ]
    },
    {
      "cell_type": "markdown",
      "source": [
        "3. You realize that you need to add 'black panther' after 'hulk',\n",
        "   so remove it from the list first and then add it after 'hulk'"
      ],
      "metadata": {
        "id": "gjSIkVou8FYL"
      }
    },
    {
      "cell_type": "code",
      "source": [
        "heros.remove('black panther')\n",
        "print(heros)"
      ],
      "metadata": {
        "id": "auqZDTJX8MzU",
        "outputId": "5eae1c3b-91b7-4586-8f7f-44edf2ca4315",
        "colab": {
          "base_uri": "https://localhost:8080/"
        }
      },
      "execution_count": null,
      "outputs": [
        {
          "output_type": "stream",
          "name": "stdout",
          "text": [
            "['spider man', 'thor', 'hulk', 'iron man', 'captain america']\n"
          ]
        }
      ]
    },
    {
      "cell_type": "code",
      "source": [
        "heros.insert(3, 'black panther')\n",
        "heros"
      ],
      "metadata": {
        "id": "Suk8R-mv8crb",
        "outputId": "1e6cfb49-4af6-4dc5-a300-0967e560e217",
        "colab": {
          "base_uri": "https://localhost:8080/"
        }
      },
      "execution_count": null,
      "outputs": [
        {
          "output_type": "execute_result",
          "data": {
            "text/plain": [
              "['spider man', 'thor', 'hulk', 'black panther', 'iron man', 'captain america']"
            ]
          },
          "metadata": {},
          "execution_count": 17
        }
      ]
    },
    {
      "cell_type": "markdown",
      "source": [
        "4. Now you don't like thor and hulk because they get angry easily :)\n",
        "   So you want to remove thor and hulk from list and replace them with doctor strange (because he is cool).\n",
        "   Do that with one line of code."
      ],
      "metadata": {
        "id": "Pq1e4C389TY8"
      }
    },
    {
      "cell_type": "code",
      "source": [
        "heros[1] = heros[2] = 'doctor strange'\n",
        "heros"
      ],
      "metadata": {
        "id": "yU67P9cK9Ura",
        "outputId": "d41bfffd-26d3-4816-d1f2-ca79bc487ce1",
        "colab": {
          "base_uri": "https://localhost:8080/"
        }
      },
      "execution_count": null,
      "outputs": [
        {
          "output_type": "execute_result",
          "data": {
            "text/plain": [
              "['spider man',\n",
              " 'doctor strange',\n",
              " 'doctor strange',\n",
              " 'black panther',\n",
              " 'iron man',\n",
              " 'captain america']"
            ]
          },
          "metadata": {},
          "execution_count": 18
        }
      ]
    },
    {
      "cell_type": "markdown",
      "source": [
        "5. Sort the heros list in alphabetical order (Hint. Use dir() functions to list down all functions available in list)\n"
      ],
      "metadata": {
        "id": "ewElxCmg914l"
      }
    },
    {
      "cell_type": "code",
      "source": [
        "dir(heros)"
      ],
      "metadata": {
        "id": "mdttk4kY9280",
        "outputId": "d4a73a5d-eb71-47a9-b5ba-9619acd55afd",
        "colab": {
          "base_uri": "https://localhost:8080/"
        }
      },
      "execution_count": null,
      "outputs": [
        {
          "output_type": "execute_result",
          "data": {
            "text/plain": [
              "['__add__',\n",
              " '__class__',\n",
              " '__class_getitem__',\n",
              " '__contains__',\n",
              " '__delattr__',\n",
              " '__delitem__',\n",
              " '__dir__',\n",
              " '__doc__',\n",
              " '__eq__',\n",
              " '__format__',\n",
              " '__ge__',\n",
              " '__getattribute__',\n",
              " '__getitem__',\n",
              " '__gt__',\n",
              " '__hash__',\n",
              " '__iadd__',\n",
              " '__imul__',\n",
              " '__init__',\n",
              " '__init_subclass__',\n",
              " '__iter__',\n",
              " '__le__',\n",
              " '__len__',\n",
              " '__lt__',\n",
              " '__mul__',\n",
              " '__ne__',\n",
              " '__new__',\n",
              " '__reduce__',\n",
              " '__reduce_ex__',\n",
              " '__repr__',\n",
              " '__reversed__',\n",
              " '__rmul__',\n",
              " '__setattr__',\n",
              " '__setitem__',\n",
              " '__sizeof__',\n",
              " '__str__',\n",
              " '__subclasshook__',\n",
              " 'append',\n",
              " 'clear',\n",
              " 'copy',\n",
              " 'count',\n",
              " 'extend',\n",
              " 'index',\n",
              " 'insert',\n",
              " 'pop',\n",
              " 'remove',\n",
              " 'reverse',\n",
              " 'sort']"
            ]
          },
          "metadata": {},
          "execution_count": 21
        }
      ]
    },
    {
      "cell_type": "code",
      "source": [
        "heros.sort()\n",
        "heros"
      ],
      "metadata": {
        "id": "EpsBlEn2-SgN",
        "outputId": "209e2843-4856-4443-d320-69b9747d4033",
        "colab": {
          "base_uri": "https://localhost:8080/"
        }
      },
      "execution_count": null,
      "outputs": [
        {
          "output_type": "execute_result",
          "data": {
            "text/plain": [
              "['black panther',\n",
              " 'captain america',\n",
              " 'doctor strange',\n",
              " 'doctor strange',\n",
              " 'iron man',\n",
              " 'spider man']"
            ]
          },
          "metadata": {},
          "execution_count": 25
        }
      ]
    },
    {
      "cell_type": "markdown",
      "source": [
        "Create a list of all odd numbers between 1 and a max number. Max number is something you need to take from a user using input() function"
      ],
      "metadata": {
        "id": "WU47qVkr_K1_"
      }
    },
    {
      "cell_type": "code",
      "source": [
        "n = int(input(\"Enter the max number:\"))\n",
        "\n",
        "odd_nos = []\n",
        "\n",
        "for i in range(1,n) :\n",
        "  if i%2 != 0 :\n",
        "    odd_nos.append(i)\n",
        "\n",
        "odd_nos"
      ],
      "metadata": {
        "id": "NbG-hnKF_L0E",
        "outputId": "44298fc4-ab75-435f-e18a-150beb52a7dd",
        "colab": {
          "base_uri": "https://localhost:8080/"
        }
      },
      "execution_count": null,
      "outputs": [
        {
          "name": "stdout",
          "output_type": "stream",
          "text": [
            "Enter the max number:30\n"
          ]
        },
        {
          "output_type": "execute_result",
          "data": {
            "text/plain": [
              "[1, 3, 5, 7, 9, 11, 13, 15, 17, 19, 21, 23, 25, 27, 29]"
            ]
          },
          "metadata": {},
          "execution_count": 28
        }
      ]
    },
    {
      "cell_type": "markdown",
      "source": [
        "## Linked List"
      ],
      "metadata": {
        "id": "YVJbZogno9vc"
      }
    },
    {
      "cell_type": "code",
      "source": [
        "class Node:\n",
        "\n",
        "  def __init__(self,data=None,next_element_pointer=None):\n",
        "    self.data = data\n",
        "    self.next_element_pointer=next_element_pointer\n",
        "\n",
        "\n"
      ],
      "metadata": {
        "id": "8UPhHjIGo_10"
      },
      "execution_count": null,
      "outputs": []
    },
    {
      "cell_type": "code",
      "source": [
        "from logging import raiseExceptions\n",
        "class LinkedList:\n",
        "\n",
        "    def __init__(self):\n",
        "        self.head = None\n",
        "\n",
        "    def insert_at_the_beginning(self,data):\n",
        "        node = Node(data,self.head)\n",
        "        self.head = node\n",
        "\n",
        "    def insert_at_the_end(self,data):\n",
        "        if self.head is None:\n",
        "            self.head = Node(data)\n",
        "        else:\n",
        "            last_node = self.head #firstly initializing it to be head node\n",
        "            while last_node.next_element_pointer:\n",
        "              last_node = last_node.next_element_pointer\n",
        "            node = Node(data)\n",
        "            last_node.next_element_pointer = node\n",
        "\n",
        "    def insert_values(self,*data):\n",
        "        for element in data:\n",
        "            self.insert_at_the_end(element)\n",
        "\n",
        "    def print_linked_list(self):\n",
        "        if self.head is None:\n",
        "            print(\"Linked List is empty\")\n",
        "        else:\n",
        "            node = self.head\n",
        "            print_string = \"\"\n",
        "            while node:\n",
        "              if print_string:\n",
        "                  print_string = print_string + \"-->\" + str(node.data)\n",
        "              else:\n",
        "                print_string = str(node.data)\n",
        "              node = node.next_element_pointer\n",
        "            print(print_string)\n",
        "\n",
        "    def get_length(self):\n",
        "        count = 0\n",
        "        node = self.head\n",
        "        while node:\n",
        "            count += 1\n",
        "            node = node.next_element_pointer\n",
        "        return count\n",
        "\n",
        "    def remove_at(self,index):\n",
        "      len = self.get_length()\n",
        "      if index < 0 or index > len-1:\n",
        "        raise Exception(\"Invalid Index\")\n",
        "      node = self.head\n",
        "      previous_node = None\n",
        "      next_node = None\n",
        "      for i in range(0,len-1):\n",
        "          if index == i:\n",
        "              next_node = node.next_element_pointer\n",
        "              previous_node.next_element_pointer = next_node\n",
        "              break;\n",
        "          else:\n",
        "              previous_node = node\n",
        "              node = node.next_element_pointer\n",
        "\n",
        "    def insert_at(self,index,data):\n",
        "        len = self.get_length()\n",
        "        if index < 1 or index > len-2:\n",
        "          raise Exception(\"Invalid Index\")\n",
        "        node = self.head\n",
        "        previous_node = None\n",
        "        next_node = None\n",
        "        for i in range(0,len-1):\n",
        "            if index == i:\n",
        "                next_node = node.next_element_pointer\n",
        "                new_node = Node(data)  #introduce new node\n",
        "                previous_node.next_element_pointer = new_node # previous node will point to new node\n",
        "                new_node.next_element_pointer = node # new node will point to current node\n",
        "                break;\n",
        "            else:\n",
        "                previous_node = node\n",
        "                node = node.next_element_pointer\n",
        "\n",
        "    def insert_after_value(self, data_after, data_to_insert):\n",
        "        node = self.head\n",
        "        next_node = None\n",
        "        while node:\n",
        "          if node.data == data_after:\n",
        "              new_node = Node(data_to_insert)\n",
        "              next_node = node.next_element_pointer\n",
        "              node.next_element_pointer = new_node\n",
        "              new_node.next_element_pointer = next_node\n",
        "              break\n",
        "          else:\n",
        "              node = node.next_element_pointer\n",
        "\n",
        "    def remove_by_value(self, data):\n",
        "        node = self.head\n",
        "        previous_node = None\n",
        "        while node:\n",
        "            if node.data == data:\n",
        "              if previous_node is None:\n",
        "                  self.head = node.next_element_pointer\n",
        "                  break\n",
        "              else:\n",
        "                previous_node.next_element_pointer = node.next_element_pointer\n",
        "                break\n",
        "            else:\n",
        "                previous_node = node\n",
        "                node = node.next_element_pointer\n"
      ],
      "metadata": {
        "id": "174c5gh-q0pU"
      },
      "execution_count": null,
      "outputs": []
    },
    {
      "cell_type": "code",
      "source": [
        "l1 = LinkedList()\n",
        "l1.print_linked_list()"
      ],
      "metadata": {
        "id": "31ESb_Imt7Jz",
        "outputId": "d821ab23-f7f6-4977-c1e2-4c5267f8e686",
        "colab": {
          "base_uri": "https://localhost:8080/"
        }
      },
      "execution_count": null,
      "outputs": [
        {
          "output_type": "stream",
          "name": "stdout",
          "text": [
            "Linked List is empty\n"
          ]
        }
      ]
    },
    {
      "cell_type": "code",
      "source": [
        "l2 = LinkedList()\n",
        "l2.insert_at_the_beginning(4)\n",
        "l2.insert_at_the_beginning(2)\n",
        "l2.print_linked_list()"
      ],
      "metadata": {
        "id": "545pF0pRulec",
        "outputId": "aaeb7524-f3ec-4194-b7e8-6f863d2d5744",
        "colab": {
          "base_uri": "https://localhost:8080/"
        }
      },
      "execution_count": null,
      "outputs": [
        {
          "output_type": "stream",
          "name": "stdout",
          "text": [
            "2-->4\n"
          ]
        }
      ]
    },
    {
      "cell_type": "code",
      "source": [
        "l2.insert_at_the_end(6)\n",
        "l2.print_linked_list()"
      ],
      "metadata": {
        "id": "bPtlCKAkxy-v",
        "outputId": "e490919a-32aa-4989-ddaf-080f8d50de67",
        "colab": {
          "base_uri": "https://localhost:8080/"
        }
      },
      "execution_count": null,
      "outputs": [
        {
          "output_type": "stream",
          "name": "stdout",
          "text": [
            "2-->4-->6\n"
          ]
        }
      ]
    },
    {
      "cell_type": "code",
      "source": [
        "l3 = LinkedList()\n",
        "l3.insert_values('apple','banana','cherry','grapes')\n",
        "l3.print_linked_list()"
      ],
      "metadata": {
        "id": "E3HeI-l-z9sB",
        "outputId": "c7614b25-df70-4fc2-e67f-9ff2500dafce",
        "colab": {
          "base_uri": "https://localhost:8080/"
        }
      },
      "execution_count": null,
      "outputs": [
        {
          "output_type": "stream",
          "name": "stdout",
          "text": [
            "apple-->banana-->cherry-->grapes\n"
          ]
        }
      ]
    },
    {
      "cell_type": "code",
      "source": [
        "l3.get_length()"
      ],
      "metadata": {
        "id": "h67Z7EW71a1C",
        "outputId": "ec8e03b3-88ae-4aaa-8289-56ca94136eb3",
        "colab": {
          "base_uri": "https://localhost:8080/"
        }
      },
      "execution_count": null,
      "outputs": [
        {
          "output_type": "execute_result",
          "data": {
            "text/plain": [
              "4"
            ]
          },
          "metadata": {},
          "execution_count": 94
        }
      ]
    },
    {
      "cell_type": "code",
      "source": [
        "l3.remove_at(2)\n",
        "l3.print_linked_list()"
      ],
      "metadata": {
        "id": "aTMRwVtn4Ns2",
        "outputId": "c55afe00-66e7-49cb-dcff-d1dea4563e9a",
        "colab": {
          "base_uri": "https://localhost:8080/"
        }
      },
      "execution_count": null,
      "outputs": [
        {
          "output_type": "stream",
          "name": "stdout",
          "text": [
            "apple-->banana-->grapes\n"
          ]
        }
      ]
    },
    {
      "cell_type": "code",
      "source": [
        "l3.insert_at(1,'orange')\n",
        "l3.print_linked_list()"
      ],
      "metadata": {
        "id": "8gWirpKL5F9U",
        "outputId": "37988de4-a9e1-4993-cadc-3cbfe2f44a34",
        "colab": {
          "base_uri": "https://localhost:8080/"
        }
      },
      "execution_count": null,
      "outputs": [
        {
          "output_type": "stream",
          "name": "stdout",
          "text": [
            "apple-->orange-->banana-->grapes\n"
          ]
        }
      ]
    },
    {
      "cell_type": "code",
      "source": [
        "l3.insert_at(2,'litchi')\n",
        "l3.print_linked_list()"
      ],
      "metadata": {
        "id": "uOqPOwmH854r",
        "outputId": "d986a8e1-4bac-4fdb-a190-723a46af6199",
        "colab": {
          "base_uri": "https://localhost:8080/"
        }
      },
      "execution_count": null,
      "outputs": [
        {
          "output_type": "stream",
          "name": "stdout",
          "text": [
            "apple-->orange-->litchi-->banana-->grapes\n"
          ]
        }
      ]
    },
    {
      "cell_type": "code",
      "source": [
        "l3.insert_at_the_end('jackfruit')\n",
        "l3.insert_at_the_beginning('mango')\n",
        "l3.print_linked_list()"
      ],
      "metadata": {
        "id": "E6ASnP-m9sge",
        "outputId": "abcdba2b-c6d1-4565-812a-99469d7527a3",
        "colab": {
          "base_uri": "https://localhost:8080/"
        }
      },
      "execution_count": null,
      "outputs": [
        {
          "output_type": "stream",
          "name": "stdout",
          "text": [
            "mango-->apple-->orange-->litchi-->banana-->grapes-->jackfruit\n"
          ]
        }
      ]
    },
    {
      "cell_type": "code",
      "source": [
        "l4 = LinkedList()\n",
        "l4.insert_values(\"banana\",\"mango\",\"grapes\",\"orange\")\n",
        "l4.print_linked_list()\n",
        "l4.insert_after_value(\"mango\",\"apple\") # insert apple after mango\n",
        "l4.print_linked_list()"
      ],
      "metadata": {
        "id": "UQo5Lq13AciX",
        "outputId": "408b2473-099a-4c3f-e211-7fdcbef11a65",
        "colab": {
          "base_uri": "https://localhost:8080/"
        }
      },
      "execution_count": null,
      "outputs": [
        {
          "output_type": "stream",
          "name": "stdout",
          "text": [
            "banana-->mango-->grapes-->orange\n",
            "banana-->mango-->apple-->grapes-->orange\n"
          ]
        }
      ]
    },
    {
      "cell_type": "code",
      "source": [
        "l4.remove_by_value(\"banana\")\n",
        "l4.print_linked_list()"
      ],
      "metadata": {
        "id": "puv3NGD1Cg3-",
        "outputId": "3a74ce3d-50db-48fc-e1b7-d84004fe2abb",
        "colab": {
          "base_uri": "https://localhost:8080/"
        }
      },
      "execution_count": null,
      "outputs": [
        {
          "output_type": "stream",
          "name": "stdout",
          "text": [
            "mango-->apple-->grapes-->orange\n"
          ]
        }
      ]
    },
    {
      "cell_type": "code",
      "source": [
        "l4.remove_by_value(\"grapes\")\n",
        "l4.print_linked_list()"
      ],
      "metadata": {
        "id": "tezrWJiHCqaz",
        "outputId": "e46e3462-b114-4573-bca3-e84ab58072dd",
        "colab": {
          "base_uri": "https://localhost:8080/"
        }
      },
      "execution_count": null,
      "outputs": [
        {
          "output_type": "stream",
          "name": "stdout",
          "text": [
            "mango-->apple-->orange\n"
          ]
        }
      ]
    },
    {
      "cell_type": "code",
      "source": [
        "l4.remove_by_value(\"orange\")\n",
        "l4.remove_by_value(\"apple\")\n",
        "l4.print_linked_list()"
      ],
      "metadata": {
        "id": "5U_9kmTQCvql",
        "outputId": "bdeb2341-c95a-4dd2-cb31-05e437b734e6",
        "colab": {
          "base_uri": "https://localhost:8080/"
        }
      },
      "execution_count": null,
      "outputs": [
        {
          "output_type": "stream",
          "name": "stdout",
          "text": [
            "mango\n"
          ]
        }
      ]
    },
    {
      "cell_type": "markdown",
      "source": [
        "## Doubly Linked List"
      ],
      "metadata": {
        "id": "8ViNbSQ8DPgb"
      }
    },
    {
      "cell_type": "code",
      "source": [
        "class DNode:\n",
        "    def __init__(self, data=None, next_element_pointer=None, prev_element_pointer=None):\n",
        "        self.data = data\n",
        "        self.next_element_pointer = next_element_pointer\n",
        "        self.prev_element_pointer = prev_element_pointer"
      ],
      "metadata": {
        "id": "Np9P8nOyDXa6"
      },
      "execution_count": null,
      "outputs": []
    },
    {
      "cell_type": "code",
      "source": [
        "from logging import raiseExceptions\n",
        "class DoublyLinkedList:\n",
        "\n",
        "    def __init__(self):\n",
        "        self.head = None\n",
        "        self.tail = None\n",
        "\n",
        "    def print_forward(self):\n",
        "        if self.head is None:\n",
        "            print(\"Doubly Linked List is empty\")\n",
        "        else:\n",
        "            node = self.head\n",
        "            print_string = \"\"\n",
        "            while node:\n",
        "              if print_string:\n",
        "                  print_string = print_string + \"-->\" + str(node.data)\n",
        "              else:\n",
        "                print_string = str(node.data)\n",
        "              node = node.next_element_pointer\n",
        "            print(print_string)\n",
        "\n",
        "    def print_backward(self):\n",
        "        if self.tail is None:\n",
        "            print(\"Doubly Linked List is empty\")\n",
        "        else:\n",
        "            node = self.tail\n",
        "            print_string = \"\"\n",
        "            while node:\n",
        "              if print_string:\n",
        "                  print_string = print_string + \"-->\" + str(node.data)\n",
        "              else:\n",
        "                print_string = str(node.data)\n",
        "              node = node.prev_element_pointer\n",
        "            print(print_string)\n",
        "\n",
        "    def insert_at_the_beginning(self,data):\n",
        "        node = DNode(data,self.head,None)\n",
        "        if self.head is None:\n",
        "            node = DNode(data,None,None)\n",
        "            self.head = node\n",
        "            self.tail = node\n",
        "        else:\n",
        "            node = DNode(data,self.head,None)\n",
        "            self.head.prev_element_pointer = node\n",
        "            self.head = node\n",
        "\n",
        "    def insert_at_the_end(self,data):\n",
        "        if self.head is None:\n",
        "            new_node = DNode(data)\n",
        "            self.head = new_node\n",
        "            self.tail = new_node\n",
        "        else:\n",
        "            last_node = self.head #firstly initializing it to be head node\n",
        "            while last_node.next_element_pointer:\n",
        "              last_node = last_node.next_element_pointer\n",
        "            node = DNode(data)\n",
        "            last_node.next_element_pointer = node\n",
        "            node.prev_element_pointer = last_node\n",
        "            self.tail = node  # updating the tailnode to be the new node\n",
        "\n",
        "    def insert_values(self,*data):\n",
        "        for element in data:\n",
        "            self.insert_at_the_end(element)\n",
        "\n",
        "    def get_length(self):\n",
        "        count = 0\n",
        "        node = self.head\n",
        "        while node:\n",
        "            count += 1\n",
        "            node = node.next_element_pointer\n",
        "        return count\n",
        "\n",
        "    def remove_at(self,index):\n",
        "        len = self.get_length()\n",
        "        if index < 0 or index > len-1:\n",
        "          raise Exception(\"Invalid Index\")\n",
        "        node = self.head\n",
        "        previous_node = None\n",
        "        next_node = None\n",
        "        for i in range(0,len-1):\n",
        "            if index == i:\n",
        "                next_node = node.next_element_pointer\n",
        "                previous_node.next_element_pointer = next_node\n",
        "                next_node.prev_element_pointer = previous_node\n",
        "                break;\n",
        "            else:\n",
        "                previous_node = node\n",
        "                node = node.next_element_pointer\n",
        "\n",
        "    def insert_at(self,index,data):\n",
        "        len = self.get_length()\n",
        "        if index < 1 or index > len-2:\n",
        "          raise Exception(\"Invalid Index\")\n",
        "        node = self.head\n",
        "        previous_node = None\n",
        "        next_node = None\n",
        "        for i in range(0,len-1):\n",
        "            if index == i:\n",
        "                next_node = node.next_element_pointer\n",
        "                new_node = DNode(data)  #introduce new node\n",
        "                previous_node.next_element_pointer = new_node # previous node will point to new node\n",
        "                new_node.prev_element_pointer = previous_node # new node will point back to previous node\n",
        "                new_node.next_element_pointer = node # new node will point to current node\n",
        "                node.prev_element_pointer = new_node # current node will now point to new node\n",
        "                break;\n",
        "            else:\n",
        "                previous_node = node\n",
        "                node = node.next_element_pointer\n",
        "\n",
        "    def insert_after_value(self, data_after, data_to_insert):\n",
        "        node = self.head\n",
        "        next_node = None\n",
        "        while node:\n",
        "          if node.data == data_after:\n",
        "              new_node = DNode(data_to_insert)\n",
        "              next_node = node.next_element_pointer\n",
        "              node.next_element_pointer = new_node # current node is pointing to new node\n",
        "              new_node.prev_element_pointer = node # new node is pointing back to current node\n",
        "              new_node.next_element_pointer = next_node # new node is pointing to next node\n",
        "              next_node.prev_element_pointer = new_node # next node is pointing back to new node\n",
        "              break\n",
        "          else:\n",
        "              node = node.next_element_pointer\n",
        "\n",
        "    def remove_by_value(self, data):\n",
        "        node = self.head\n",
        "        previous_node = None\n",
        "        while node:\n",
        "            if node.data == data:\n",
        "              if previous_node is None:\n",
        "                  self.head = node.next_element_pointer\n",
        "                  break\n",
        "              else:\n",
        "                next_node = node.next_element_pointer\n",
        "                previous_node.next_element_pointer = next_node\n",
        "                next_node.prev_element_pointer = previous_node\n",
        "                break\n",
        "            else:\n",
        "                previous_node = node\n",
        "                node = node.next_element_pointer\n"
      ],
      "metadata": {
        "id": "QY23XuxlFLmL"
      },
      "execution_count": null,
      "outputs": []
    },
    {
      "cell_type": "code",
      "source": [
        "dl1 = DoublyLinkedList()\n",
        "dl1.insert_at_the_beginning(2)\n",
        "dl1.insert_at_the_beginning(4)\n",
        "dl1.insert_at_the_beginning(6)\n",
        "dl1.print_forward()\n",
        "dl1.print_backward()"
      ],
      "metadata": {
        "colab": {
          "base_uri": "https://localhost:8080/"
        },
        "id": "jA5zeTXeFe2S",
        "outputId": "5c66d344-341d-4ab4-be30-f2da71db89a5"
      },
      "execution_count": null,
      "outputs": [
        {
          "output_type": "stream",
          "name": "stdout",
          "text": [
            "6-->4-->2\n",
            "2-->4-->6\n"
          ]
        }
      ]
    },
    {
      "cell_type": "code",
      "source": [
        "dl1.insert_at_the_end(100)\n",
        "dl1.insert_at_the_end(200)\n",
        "dl1.print_forward()\n",
        "dl1.print_backward()"
      ],
      "metadata": {
        "colab": {
          "base_uri": "https://localhost:8080/"
        },
        "id": "Vuc7rbYyN6ex",
        "outputId": "7caba6e6-ace1-4f5e-ca7c-8df78448fa52"
      },
      "execution_count": null,
      "outputs": [
        {
          "output_type": "stream",
          "name": "stdout",
          "text": [
            "6-->4-->2-->100-->200\n",
            "200-->100-->2-->4-->6\n"
          ]
        }
      ]
    },
    {
      "cell_type": "code",
      "source": [
        "dl2 = DoublyLinkedList()\n",
        "print(\"Create new doubly linked list using elements :\")\n",
        "dl2.insert_values('A','B','C','D')\n",
        "dl2.print_forward()\n",
        "dl2.print_backward()\n",
        "\n",
        "print(\"\\n\")\n",
        "\n",
        "print(\"Length :\" +  str(dl2.get_length()))\n",
        "\n",
        "print(\"\\n\")\n",
        "\n",
        "print(\"Remove element at position 1:\")\n",
        "dl2.remove_at(1)\n",
        "dl2.print_forward()\n",
        "dl2.print_backward()\n",
        "\n",
        "print(\"\\n\")\n",
        "\n",
        "print(\"Insert element at position 1 :\")\n",
        "\n",
        "dl2.insert_at(1,'QQ')\n",
        "dl2.print_forward()\n",
        "dl2.print_backward()"
      ],
      "metadata": {
        "colab": {
          "base_uri": "https://localhost:8080/"
        },
        "id": "qFMXeee5Okp9",
        "outputId": "c46dabcf-eb1b-418b-8d83-4dca0fade96d"
      },
      "execution_count": null,
      "outputs": [
        {
          "output_type": "stream",
          "name": "stdout",
          "text": [
            "Create new doubly linked list using elements :\n",
            "A-->B-->C-->D\n",
            "D-->C-->B-->A\n",
            "\n",
            "\n",
            "Length :4\n",
            "\n",
            "\n",
            "Remove element at position 1:\n",
            "A-->C-->D\n",
            "D-->C-->A\n",
            "\n",
            "\n",
            "Insert element at position 1 :\n",
            "A-->QQ-->C-->D\n",
            "D-->C-->QQ-->A\n"
          ]
        }
      ]
    },
    {
      "cell_type": "code",
      "source": [
        "dl3 = DoublyLinkedList()\n",
        "dl3.insert_values(\"banana\",\"mango\",\"grapes\",\"orange\")\n",
        "dl3.print_forward()\n",
        "dl3.insert_after_value(\"mango\",\"apple\") # insert apple after mango\n",
        "dl3.print_forward()"
      ],
      "metadata": {
        "colab": {
          "base_uri": "https://localhost:8080/"
        },
        "id": "8Cn4bXQaSOV_",
        "outputId": "805dc308-dfbf-475c-abed-6911c5ea1dd0"
      },
      "execution_count": null,
      "outputs": [
        {
          "output_type": "stream",
          "name": "stdout",
          "text": [
            "banana-->mango-->grapes-->orange\n",
            "banana-->mango-->apple-->grapes-->orange\n"
          ]
        }
      ]
    },
    {
      "cell_type": "code",
      "source": [
        "dl3.remove_by_value('grapes')\n",
        "dl3.print_forward()\n",
        "dl3.print_backward()"
      ],
      "metadata": {
        "colab": {
          "base_uri": "https://localhost:8080/"
        },
        "id": "0p6C9TClUpCy",
        "outputId": "8b066da6-9077-44a8-edb1-452e9f355291"
      },
      "execution_count": null,
      "outputs": [
        {
          "output_type": "stream",
          "name": "stdout",
          "text": [
            "banana-->mango-->apple-->orange\n",
            "orange-->apple-->mango-->banana\n"
          ]
        }
      ]
    },
    {
      "cell_type": "code",
      "source": [
        "dl3.remove_by_value('mango')\n",
        "dl3.print_forward()\n",
        "dl3.print_backward()"
      ],
      "metadata": {
        "colab": {
          "base_uri": "https://localhost:8080/"
        },
        "id": "V6CO7a9bU13h",
        "outputId": "52fb9af0-ecec-4008-b85d-e5b01807cd06"
      },
      "execution_count": null,
      "outputs": [
        {
          "output_type": "stream",
          "name": "stdout",
          "text": [
            "banana-->apple-->orange\n",
            "orange-->apple-->banana\n"
          ]
        }
      ]
    },
    {
      "cell_type": "markdown",
      "source": [
        "## Stack"
      ],
      "metadata": {
        "id": "GdVn82MwqWkA"
      }
    },
    {
      "cell_type": "code",
      "source": [
        "stack = []\n",
        "stack.append(1)\n",
        "stack.append(2)\n",
        "stack.append(3)\n",
        "stack.pop()"
      ],
      "metadata": {
        "id": "GcKwtWY2qYMS",
        "outputId": "8e058510-decb-4d88-d4fd-5cd5b4e893a3",
        "colab": {
          "base_uri": "https://localhost:8080/"
        }
      },
      "execution_count": null,
      "outputs": [
        {
          "output_type": "execute_result",
          "data": {
            "text/plain": [
              "3"
            ]
          },
          "metadata": {},
          "execution_count": 10
        }
      ]
    },
    {
      "cell_type": "code",
      "source": [
        "stack"
      ],
      "metadata": {
        "id": "3d25g7rKqo3B",
        "outputId": "8baec0eb-7266-416c-9895-cc48f05cf0c3",
        "colab": {
          "base_uri": "https://localhost:8080/"
        }
      },
      "execution_count": null,
      "outputs": [
        {
          "output_type": "execute_result",
          "data": {
            "text/plain": [
              "[1, 2]"
            ]
          },
          "metadata": {},
          "execution_count": 11
        }
      ]
    },
    {
      "cell_type": "code",
      "source": [
        "from collections import deque\n",
        "\n",
        "stack = deque()\n",
        "\n",
        "stack.append(1)\n",
        "stack.append(2)\n",
        "stack.append(3)\n",
        "\n",
        "stack.pop()"
      ],
      "metadata": {
        "id": "AyOAMTFOqsow",
        "outputId": "b7b5b85c-e1db-4257-e664-f9d4ba009b54",
        "colab": {
          "base_uri": "https://localhost:8080/"
        }
      },
      "execution_count": null,
      "outputs": [
        {
          "output_type": "execute_result",
          "data": {
            "text/plain": [
              "3"
            ]
          },
          "metadata": {},
          "execution_count": 12
        }
      ]
    },
    {
      "cell_type": "code",
      "source": [
        "from collections import deque\n",
        "\n",
        "class Stack:\n",
        "\n",
        "  def __init__(self):\n",
        "    self.stack = deque()\n",
        "\n",
        "  def push(self,data):\n",
        "    self.stack.append(data)\n",
        "\n",
        "  def pop(self):\n",
        "    return self.stack.pop()\n",
        "\n",
        "  def peek(self):\n",
        "    return self.stack[-1]\n",
        "\n",
        "  def isEmpty(self):\n",
        "    return len(self.stack) == 0\n",
        "\n",
        "  def size(self):\n",
        "    return len(self.stack)\n",
        "\n"
      ],
      "metadata": {
        "id": "-7pZZ15YrB0p"
      },
      "execution_count": null,
      "outputs": []
    },
    {
      "cell_type": "code",
      "source": [
        "stack = Stack()\n",
        "stack.push(1)\n",
        "stack.push(2)\n",
        "stack.push(3)\n",
        "\n",
        "stack.pop()"
      ],
      "metadata": {
        "id": "w8Es0i2cr0kz",
        "outputId": "56f807d0-1915-4f1d-d9fc-a9f53adc4e6a",
        "colab": {
          "base_uri": "https://localhost:8080/"
        }
      },
      "execution_count": null,
      "outputs": [
        {
          "output_type": "execute_result",
          "data": {
            "text/plain": [
              "3"
            ]
          },
          "metadata": {},
          "execution_count": 16
        }
      ]
    },
    {
      "cell_type": "code",
      "source": [
        "stack.isEmpty()"
      ],
      "metadata": {
        "id": "LhBIPJYBsBHJ",
        "outputId": "96a41810-a7af-4f60-c11a-78ee32b8d770",
        "colab": {
          "base_uri": "https://localhost:8080/"
        }
      },
      "execution_count": null,
      "outputs": [
        {
          "output_type": "execute_result",
          "data": {
            "text/plain": [
              "False"
            ]
          },
          "metadata": {},
          "execution_count": 17
        }
      ]
    },
    {
      "cell_type": "code",
      "source": [
        "stack.size()"
      ],
      "metadata": {
        "id": "YJ1Gu_9hsEzo",
        "outputId": "6dd1eaed-ccc5-4374-d565-74d0177049e6",
        "colab": {
          "base_uri": "https://localhost:8080/"
        }
      },
      "execution_count": null,
      "outputs": [
        {
          "output_type": "execute_result",
          "data": {
            "text/plain": [
              "2"
            ]
          },
          "metadata": {},
          "execution_count": 18
        }
      ]
    },
    {
      "cell_type": "code",
      "source": [
        "stack.peek()"
      ],
      "metadata": {
        "id": "KrkbjTAssHi5",
        "outputId": "3d274eee-0043-45b0-af73-93c3d9ea1df4",
        "colab": {
          "base_uri": "https://localhost:8080/"
        }
      },
      "execution_count": null,
      "outputs": [
        {
          "output_type": "execute_result",
          "data": {
            "text/plain": [
              "2"
            ]
          },
          "metadata": {},
          "execution_count": 19
        }
      ]
    },
    {
      "cell_type": "markdown",
      "source": [
        "Reverse a string using Stack"
      ],
      "metadata": {
        "id": "BCxFa0ubsQhv"
      }
    },
    {
      "cell_type": "code",
      "source": [
        "def reverse_string(string):\n",
        "  stack = Stack()\n",
        "\n",
        "  reversed_string = \"\"\n",
        "\n",
        "  for char in string:\n",
        "    stack.push(char)\n",
        "\n",
        "  while not stack.isEmpty():\n",
        "    reversed_string += stack.pop()\n",
        "\n",
        "  return reversed_string"
      ],
      "metadata": {
        "id": "P-E8L6a_sVpI"
      },
      "execution_count": null,
      "outputs": []
    },
    {
      "cell_type": "code",
      "source": [
        "reverse_string(\"We will conquere COVID-19\")"
      ],
      "metadata": {
        "id": "QguAdlvRs3Qm",
        "outputId": "5ff8d8e5-3519-4d59-f6f9-8f68bbe54c03",
        "colab": {
          "base_uri": "https://localhost:8080/",
          "height": 36
        }
      },
      "execution_count": null,
      "outputs": [
        {
          "output_type": "execute_result",
          "data": {
            "text/plain": [
              "'91-DIVOC ereuqnoc lliw eW'"
            ],
            "application/vnd.google.colaboratory.intrinsic+json": {
              "type": "string"
            }
          },
          "metadata": {},
          "execution_count": 32
        }
      ]
    },
    {
      "cell_type": "markdown",
      "source": [
        "Match paranthesis, curly brackets and square brackets using Stack"
      ],
      "metadata": {
        "id": "I7ZZ3niNtsEf"
      }
    },
    {
      "cell_type": "code",
      "source": [
        "def is_match(ch1, ch2):\n",
        "    match_dict = {\n",
        "        ')': '(',\n",
        "        ']': '[',\n",
        "        '}': '{'\n",
        "    }\n",
        "    return match_dict[ch1] == ch2\n",
        "\n",
        "\n",
        "def is_balanced(s):\n",
        "    stack = Stack()\n",
        "    for ch in s:\n",
        "        if ch=='(' or ch=='{' or ch == '[':\n",
        "            stack.push(ch)\n",
        "        if ch==')' or ch=='}' or ch == ']':\n",
        "            if stack.size()==0:\n",
        "                return False\n",
        "            if not is_match(ch,stack.pop()):\n",
        "                return False\n",
        "\n",
        "    return stack.size()==0"
      ],
      "metadata": {
        "id": "eb-GYj0WtqyZ"
      },
      "execution_count": null,
      "outputs": []
    },
    {
      "cell_type": "code",
      "source": [
        "is_balanced(\"({a+b})\")"
      ],
      "metadata": {
        "id": "Aut3osD7t2D6",
        "outputId": "97316d05-1770-4a8b-f1ae-5933b05fa89b",
        "colab": {
          "base_uri": "https://localhost:8080/"
        }
      },
      "execution_count": null,
      "outputs": [
        {
          "output_type": "execute_result",
          "data": {
            "text/plain": [
              "True"
            ]
          },
          "metadata": {},
          "execution_count": 34
        }
      ]
    },
    {
      "cell_type": "code",
      "source": [
        "is_balanced(\"))((a+b}{\")"
      ],
      "metadata": {
        "id": "8deW1--lt4JQ",
        "outputId": "9a0580a7-c358-49ba-beaf-caa59b220303",
        "colab": {
          "base_uri": "https://localhost:8080/"
        }
      },
      "execution_count": null,
      "outputs": [
        {
          "output_type": "execute_result",
          "data": {
            "text/plain": [
              "False"
            ]
          },
          "metadata": {},
          "execution_count": 35
        }
      ]
    },
    {
      "cell_type": "code",
      "source": [
        "is_balanced(\"((a+b))\")"
      ],
      "metadata": {
        "id": "7RVB-8fVt6UI",
        "outputId": "f03a22cb-580f-4062-c9e2-041237faffca",
        "colab": {
          "base_uri": "https://localhost:8080/"
        }
      },
      "execution_count": null,
      "outputs": [
        {
          "output_type": "execute_result",
          "data": {
            "text/plain": [
              "True"
            ]
          },
          "metadata": {},
          "execution_count": 36
        }
      ]
    },
    {
      "cell_type": "code",
      "source": [
        "is_balanced(\"))\")"
      ],
      "metadata": {
        "id": "fOFy7cMSt8wZ",
        "outputId": "0554f6e7-eb78-40cc-bcec-24ddb47bb62f",
        "colab": {
          "base_uri": "https://localhost:8080/"
        }
      },
      "execution_count": null,
      "outputs": [
        {
          "output_type": "execute_result",
          "data": {
            "text/plain": [
              "False"
            ]
          },
          "metadata": {},
          "execution_count": 37
        }
      ]
    },
    {
      "cell_type": "code",
      "source": [
        "is_balanced(\"[a+b]*(x+2y)*{gg+kk}\")"
      ],
      "metadata": {
        "id": "_hOceoDSt_AF",
        "outputId": "1da212d9-3ce6-4f71-fb75-16ed5e732d4d",
        "colab": {
          "base_uri": "https://localhost:8080/"
        }
      },
      "execution_count": null,
      "outputs": [
        {
          "output_type": "execute_result",
          "data": {
            "text/plain": [
              "True"
            ]
          },
          "metadata": {},
          "execution_count": 38
        }
      ]
    },
    {
      "cell_type": "markdown",
      "source": [
        "## Queue"
      ],
      "metadata": {
        "id": "SPAiYAztuL7I"
      }
    },
    {
      "cell_type": "code",
      "source": [
        "queue = []\n",
        "\n",
        "queue.insert(0,1)\n",
        "queue.insert(0,2)\n",
        "queue.insert(0,3)\n",
        "queue.pop()"
      ],
      "metadata": {
        "id": "t8Yt_OX5uNVw",
        "outputId": "d440ac4d-394e-44a3-efd9-3c0de28e1bee",
        "colab": {
          "base_uri": "https://localhost:8080/"
        }
      },
      "execution_count": null,
      "outputs": [
        {
          "output_type": "execute_result",
          "data": {
            "text/plain": [
              "1"
            ]
          },
          "metadata": {},
          "execution_count": 39
        }
      ]
    },
    {
      "cell_type": "code",
      "source": [
        "from collections import deque\n",
        "\n",
        "dq = deque()\n",
        "\n",
        "dq.append(1)\n",
        "dq.append(2)\n",
        "dq.append(3)\n",
        "dq.popleft()"
      ],
      "metadata": {
        "id": "3NrmrUqsurpQ",
        "outputId": "f540581b-3bcd-4399-dccf-2c44dff25e26",
        "colab": {
          "base_uri": "https://localhost:8080/"
        }
      },
      "execution_count": null,
      "outputs": [
        {
          "output_type": "execute_result",
          "data": {
            "text/plain": [
              "1"
            ]
          },
          "metadata": {},
          "execution_count": 40
        }
      ]
    },
    {
      "cell_type": "code",
      "source": [
        "from collections import deque\n",
        "\n",
        "class Queue:\n",
        "\n",
        "  def __init__(self):\n",
        "    self.dq = deque()\n",
        "\n",
        "  def enqueue(self,data):\n",
        "    self.dq.append(data)\n",
        "\n",
        "  def dequeue(self):\n",
        "    return self.dq.popleft()\n",
        "\n",
        "  def peek(self):\n",
        "    return self.dq[0]\n",
        "\n",
        "  def isEmpty(self):\n",
        "    return len(self.dq) == 0\n",
        "\n",
        "  def size(self):\n",
        "    return len(self.dq)"
      ],
      "metadata": {
        "id": "k5U4sl_zu8_H"
      },
      "execution_count": null,
      "outputs": []
    },
    {
      "cell_type": "code",
      "source": [
        "dq = Queue()\n",
        "\n",
        "dq.enqueue(1)\n",
        "dq.enqueue(2)\n",
        "dq.enqueue(3)\n",
        "dq.peek()"
      ],
      "metadata": {
        "id": "QbGRtTLzvgdX",
        "outputId": "95ec51c8-2902-43d9-92a0-0cfd090124da",
        "colab": {
          "base_uri": "https://localhost:8080/"
        }
      },
      "execution_count": null,
      "outputs": [
        {
          "output_type": "execute_result",
          "data": {
            "text/plain": [
              "1"
            ]
          },
          "metadata": {},
          "execution_count": 51
        }
      ]
    },
    {
      "cell_type": "code",
      "source": [
        "dq.dequeue()"
      ],
      "metadata": {
        "id": "712Ti0ZrwHNk",
        "outputId": "1d6fd285-0ea5-476c-c9e6-d6d0a655254b",
        "colab": {
          "base_uri": "https://localhost:8080/"
        }
      },
      "execution_count": null,
      "outputs": [
        {
          "output_type": "execute_result",
          "data": {
            "text/plain": [
              "1"
            ]
          },
          "metadata": {},
          "execution_count": 52
        }
      ]
    },
    {
      "cell_type": "markdown",
      "source": [
        "Producer - Consumer problem - Restaurant Management"
      ],
      "metadata": {
        "id": "Y3vAVSICwQQm"
      }
    },
    {
      "cell_type": "code",
      "source": [
        "import time\n",
        "from threading import Thread\n",
        "orders = ['pizza','samosa','pasta','biryani','burger']\n",
        "\n",
        "order_queue = Queue()\n",
        "\n",
        "def place_order():\n",
        "  for order in orders:\n",
        "      order_queue.enqueue(order)\n",
        "      time.sleep(0.5)\n",
        "\n",
        "def serve_order():\n",
        "  while not order_queue.isEmpty():\n",
        "    print(order_queue.dequeue())\n",
        "    time.sleep(2)\n",
        "\n",
        "place_order_thread = Thread(target=place_order())\n",
        "serve_order_thread = Thread(target=serve_order())\n",
        "\n",
        "place_order_thread.start()\n",
        "time.sleep(1)\n",
        "serve_order_thread.start()\n",
        "\n",
        "place_order_thread.join()\n",
        "serve_order_thread.join()"
      ],
      "metadata": {
        "id": "-HGp-yPywVBY",
        "outputId": "4fb12be8-aacd-40ff-fd52-6c1c61cfce43",
        "colab": {
          "base_uri": "https://localhost:8080/"
        }
      },
      "execution_count": null,
      "outputs": [
        {
          "output_type": "stream",
          "name": "stdout",
          "text": [
            "pizza\n",
            "samosa\n",
            "pasta\n",
            "biryani\n",
            "burger\n"
          ]
        }
      ]
    },
    {
      "cell_type": "markdown",
      "source": [
        "Write a program to print binary numbers from 1 to 10 using Queue. Use Queue class implemented in main tutorial.\n",
        "\n",
        "Hint: Notice a pattern above. After 1 second and third number is 1+0 and 1+1. 4th and 5th number are second number (i.e. 10) + 0 and second number (i.e. 10) + 1.\n",
        "\n"
      ],
      "metadata": {
        "id": "VTitFaHCxp0t"
      }
    },
    {
      "cell_type": "code",
      "source": [
        "def print_binary_number():\n",
        "  n= 10\n",
        "  top_number = 0\n",
        "  queue = Queue()\n",
        "\n",
        "  queue.enqueue(\"1\")\n",
        "\n",
        "  for i in range(0,10):\n",
        "    top_number = queue.peek()\n",
        "    queue.enqueue(top_number + \"0\")\n",
        "    queue.enqueue(top_number + \"1\")\n",
        "    print(queue.dequeue())\n"
      ],
      "metadata": {
        "id": "oqIxzWxqx4hx"
      },
      "execution_count": null,
      "outputs": []
    },
    {
      "cell_type": "code",
      "source": [
        "print_binary_number()"
      ],
      "metadata": {
        "id": "-dR8UbPqz5iA",
        "outputId": "9f006b14-3569-4b01-f1c4-60658b5d6bc3",
        "colab": {
          "base_uri": "https://localhost:8080/"
        }
      },
      "execution_count": null,
      "outputs": [
        {
          "output_type": "stream",
          "name": "stdout",
          "text": [
            "1\n",
            "10\n",
            "11\n",
            "100\n",
            "101\n",
            "110\n",
            "111\n",
            "1000\n",
            "1001\n",
            "1010\n"
          ]
        }
      ]
    },
    {
      "cell_type": "markdown",
      "source": [
        "## Tree"
      ],
      "metadata": {
        "id": "cO5Mr19N0iOT"
      }
    },
    {
      "cell_type": "code",
      "source": [
        "class TreeNode():\n",
        "\n",
        "  def __init__(self,data):\n",
        "      self.data = data\n",
        "      self.child = []\n",
        "      self.parent = None\n",
        "\n",
        "  def add_child(self,child):\n",
        "      self.child.append(child)\n",
        "      child.parent = self\n",
        "\n",
        "  def print_tree(self,count=0,level=None):\n",
        "      if count > 0:\n",
        "        data_tab = \"    \" * count + \"|__\"\n",
        "        print(data_tab + self.data)\n",
        "      else:\n",
        "        print(self.data)\n",
        "      if self.child:\n",
        "        if level == count:\n",
        "          return\n",
        "        for child in self.child:\n",
        "          child.print_tree(count+1,level)\n"
      ],
      "metadata": {
        "id": "Al0iVw470kC3"
      },
      "execution_count": null,
      "outputs": []
    },
    {
      "cell_type": "code",
      "source": [
        "fruit = TreeNode('Fruits')\n",
        "\n",
        "apple = TreeNode('apple')\n",
        "berries = TreeNode('berries')\n",
        "\n",
        "fruit.add_child(apple)\n",
        "fruit.add_child(berries)\n",
        "\n",
        "strawberry = TreeNode('strawberry')\n",
        "blueberry = TreeNode('blueberry')\n",
        "berries.add_child(strawberry)\n",
        "berries.add_child(blueberry)\n",
        "\n",
        "fruit.print_tree()"
      ],
      "metadata": {
        "id": "UW841CZ46-_q",
        "outputId": "8cc974f5-0a82-4b43-99fd-dab0ad779691",
        "colab": {
          "base_uri": "https://localhost:8080/"
        }
      },
      "execution_count": null,
      "outputs": [
        {
          "output_type": "stream",
          "name": "stdout",
          "text": [
            "Fruits\n",
            "    |__apple\n",
            "    |__berries\n",
            "        |__strawberry\n",
            "        |__blueberry\n"
          ]
        }
      ]
    },
    {
      "cell_type": "markdown",
      "source": [
        "Company tree structure"
      ],
      "metadata": {
        "id": "neCSvPgsDHsb"
      }
    },
    {
      "cell_type": "code",
      "source": [
        "company = TreeNode('Nipul (CEO)')\n",
        "\n",
        "chinmay = TreeNode('Chinmay (CTO)')\n",
        "gels = TreeNode('Gels (HR Head)')\n",
        "\n",
        "company.add_child(chinmay)\n",
        "company.add_child(gels)\n",
        "\n",
        "vishwa = TreeNode('Vishwa (Infrastructure Head)')\n",
        "amir = TreeNode('Amir (Application Head)')\n",
        "chinmay.add_child(vishwa)\n",
        "chinmay.add_child(amir)\n",
        "\n",
        "dhawal = TreeNode('Dhawal (Cloud Manager)')\n",
        "abhijeet = TreeNode('Abhijeet (App Manager)')\n",
        "vishwa.add_child(dhawal)\n",
        "vishwa.add_child(abhijeet)\n",
        "\n",
        "peter = TreeNode('Peter (Recruitment Manager)')\n",
        "waqas = TreeNode('waqas (Policy Manager)')\n",
        "gels.add_child(peter)\n",
        "gels.add_child(waqas)\n",
        "\n",
        "company.print_tree()"
      ],
      "metadata": {
        "id": "0hKkNakvDHOF",
        "outputId": "36cb37ac-8616-4fdb-83f7-6e77743e3cbe",
        "colab": {
          "base_uri": "https://localhost:8080/"
        }
      },
      "execution_count": null,
      "outputs": [
        {
          "output_type": "stream",
          "name": "stdout",
          "text": [
            "Nipul (CEO)\n",
            "    |__Chinmay (CTO)\n",
            "        |__Vishwa (Infrastructure Head)\n",
            "            |__Dhawal (Cloud Manager)\n",
            "            |__Abhijeet (App Manager)\n",
            "        |__Amir (Application Head)\n",
            "    |__Gels (HR Head)\n",
            "        |__Peter (Recruitment Manager)\n",
            "        |__waqas (Policy Manager)\n"
          ]
        }
      ]
    },
    {
      "cell_type": "code",
      "source": [
        "company.print_tree(level=1)"
      ],
      "metadata": {
        "id": "JGmcOt63Imkb",
        "outputId": "6a9bda96-9ca3-433a-dd66-73c2e7ce7644",
        "colab": {
          "base_uri": "https://localhost:8080/"
        }
      },
      "execution_count": null,
      "outputs": [
        {
          "output_type": "stream",
          "name": "stdout",
          "text": [
            "Nipul (CEO)\n",
            "    |__Chinmay (CTO)\n",
            "    |__Gels (HR Head)\n"
          ]
        }
      ]
    },
    {
      "cell_type": "code",
      "source": [
        "company.print_tree(level=2)"
      ],
      "metadata": {
        "id": "q70yldwPI1Xu",
        "outputId": "77cdc3ea-0711-46de-8e0c-deea15fdb733",
        "colab": {
          "base_uri": "https://localhost:8080/"
        }
      },
      "execution_count": null,
      "outputs": [
        {
          "output_type": "stream",
          "name": "stdout",
          "text": [
            "Nipul (CEO)\n",
            "    |__Chinmay (CTO)\n",
            "        |__Vishwa (Infrastructure Head)\n",
            "        |__Amir (Application Head)\n",
            "    |__Gels (HR Head)\n",
            "        |__Peter (Recruitment Manager)\n",
            "        |__waqas (Policy Manager)\n"
          ]
        }
      ]
    },
    {
      "cell_type": "code",
      "source": [
        "company.print_tree(level=3)"
      ],
      "metadata": {
        "id": "vWUlWM0QI3im",
        "outputId": "83bfe130-8090-4fa2-a872-09677f45609d",
        "colab": {
          "base_uri": "https://localhost:8080/"
        }
      },
      "execution_count": null,
      "outputs": [
        {
          "output_type": "stream",
          "name": "stdout",
          "text": [
            "Nipul (CEO)\n",
            "    |__Chinmay (CTO)\n",
            "        |__Vishwa (Infrastructure Head)\n",
            "            |__Dhawal (Cloud Manager)\n",
            "            |__Abhijeet (App Manager)\n",
            "        |__Amir (Application Head)\n",
            "    |__Gels (HR Head)\n",
            "        |__Peter (Recruitment Manager)\n",
            "        |__waqas (Policy Manager)\n"
          ]
        }
      ]
    },
    {
      "cell_type": "code",
      "source": [
        "company.print_tree(level=4)"
      ],
      "metadata": {
        "id": "dwCfxqk1I9V8",
        "outputId": "c5625425-ff8d-4fd0-e995-9df1640191eb",
        "colab": {
          "base_uri": "https://localhost:8080/"
        }
      },
      "execution_count": null,
      "outputs": [
        {
          "output_type": "stream",
          "name": "stdout",
          "text": [
            "Nipul (CEO)\n",
            "    |__Chinmay (CTO)\n",
            "        |__Vishwa (Infrastructure Head)\n",
            "            |__Dhawal (Cloud Manager)\n",
            "            |__Abhijeet (App Manager)\n",
            "        |__Amir (Application Head)\n",
            "    |__Gels (HR Head)\n",
            "        |__Peter (Recruitment Manager)\n",
            "        |__waqas (Policy Manager)\n"
          ]
        }
      ]
    },
    {
      "cell_type": "markdown",
      "source": [
        "## Binary Tree"
      ],
      "metadata": {
        "id": "WZyn3hJ3JAsO"
      }
    },
    {
      "cell_type": "code",
      "source": [
        "class BinarySearchTreeNode:\n",
        "    def __init__(self, data):\n",
        "        self.data = data\n",
        "        self.left = None\n",
        "        self.right = None\n",
        "\n",
        "    def add_child(self, data):\n",
        "        if data == self.data:\n",
        "            return # node already exist\n",
        "\n",
        "        if data < self.data:\n",
        "            if self.left:\n",
        "                self.left.add_child(data)\n",
        "            else:\n",
        "                self.left = BinarySearchTreeNode(data)\n",
        "        else:\n",
        "            if self.right:\n",
        "                self.right.add_child(data)\n",
        "            else:\n",
        "                self.right = BinarySearchTreeNode(data)\n",
        "\n",
        "    # Traverse left tree then root and then right tree\n",
        "    def in_order_traversal(self):\n",
        "        elements = []\n",
        "        # traverse left\n",
        "        if self.left:\n",
        "            elements += self.left.in_order_traversal()\n",
        "\n",
        "        elements.append(self.data)\n",
        "\n",
        "        # traverse right\n",
        "        if self.right:\n",
        "            elements += self.right.in_order_traversal()\n",
        "\n",
        "        return elements\n",
        "\n",
        "    def search(self, val):\n",
        "        if self.data == val:\n",
        "            return True\n",
        "\n",
        "        if val < self.data:\n",
        "            if self.left:\n",
        "                return self.left.search(val)\n",
        "            else:\n",
        "                return False\n",
        "\n",
        "        if val > self.data:\n",
        "            if self.right:\n",
        "                return self.right.search(val)\n",
        "            else:\n",
        "                return False\n",
        "\n",
        "    def find_min(self):\n",
        "        if self.left:\n",
        "            self.left.find_min()\n",
        "        else:\n",
        "            print(self.data)\n",
        "\n",
        "    def find_max(self):\n",
        "      if self.right:\n",
        "          self.right.find_max()\n",
        "      else:\n",
        "          print(self.data)\n",
        "\n",
        "    def calculate_sum(self):\n",
        "      elements = self.in_order_traversal()\n",
        "      print(sum(elements))\n",
        "\n",
        "    # Traverse left tree then right tree and then root\n",
        "    def post_order_traversal(self):\n",
        "        elements = []\n",
        "        # traverse left\n",
        "        if self.left:\n",
        "            elements += self.left.post_order_traversal()\n",
        "\n",
        "        # traverse right\n",
        "        if self.right:\n",
        "            elements += self.right.post_order_traversal()\n",
        "\n",
        "        #traverse root\n",
        "        elements.append(self.data)\n",
        "        return elements\n",
        "\n",
        "    # Traverse root, left tree and then right tree\n",
        "    def pre_order_traversal(self):\n",
        "        elements = []\n",
        "\n",
        "        #traverse root\n",
        "        elements.append(self.data)\n",
        "\n",
        "        # traverse left\n",
        "        if self.left:\n",
        "            elements += self.left.pre_order_traversal()\n",
        "\n",
        "        # traverse right\n",
        "        if self.right:\n",
        "            elements += self.right.pre_order_traversal()\n",
        "        return elements\n",
        "\n",
        "    # def delete(self, val):\n",
        "    #     if val < self.data:\n",
        "    #         if self.left:\n",
        "    #             self.left = self.left.delete(val)\n",
        "    #     elif val > self.data:\n",
        "    #         if self.right:\n",
        "    #             self.right = self.right.delete(val)\n",
        "    #     else:\n",
        "    #         if self.left is None and self.right is None:\n",
        "    #             return None\n",
        "    #         elif self.left is None:\n",
        "    #             return self.right\n",
        "    #         elif self.right is None:\n",
        "    #             return self.left\n",
        "\n",
        "    #         min_val = self.right.find_min()\n",
        "    #         self.data = min_val\n",
        "    #         self.right = self.right.delete(min_val)\n",
        "\n",
        "    #     return self"
      ],
      "metadata": {
        "id": "pSLyhMC1JDra"
      },
      "execution_count": null,
      "outputs": []
    },
    {
      "cell_type": "code",
      "source": [
        "def build_tree(elements):\n",
        "    print(\"Building tree with these elements:\",elements)\n",
        "    root = BinarySearchTreeNode(elements[0])\n",
        "\n",
        "    for i in range(1,len(elements)):\n",
        "        root.add_child(elements[i])\n",
        "\n",
        "    return root\n"
      ],
      "metadata": {
        "id": "fRJHLl9rJcLy"
      },
      "execution_count": null,
      "outputs": []
    },
    {
      "cell_type": "code",
      "source": [
        "num = [15, 12, 7, 14, 27, 20, 23, 88]\n",
        "num_tree = build_tree(num)"
      ],
      "metadata": {
        "id": "EOls-6InJolj",
        "outputId": "e6fa7902-cbc2-431e-f9f5-3198c671113a",
        "colab": {
          "base_uri": "https://localhost:8080/"
        }
      },
      "execution_count": null,
      "outputs": [
        {
          "output_type": "stream",
          "name": "stdout",
          "text": [
            "Building tree with these elements: [15, 12, 7, 14, 27, 20, 23, 88]\n"
          ]
        }
      ]
    },
    {
      "cell_type": "code",
      "source": [
        "print(num_tree.in_order_traversal())"
      ],
      "metadata": {
        "id": "m4j-sBTFJtzR",
        "outputId": "384b4dcf-9458-4579-ffe7-be0c38aa287c",
        "colab": {
          "base_uri": "https://localhost:8080/"
        }
      },
      "execution_count": null,
      "outputs": [
        {
          "output_type": "stream",
          "name": "stdout",
          "text": [
            "[7, 12, 14, 15, 20, 23, 27, 88]\n"
          ]
        }
      ]
    },
    {
      "cell_type": "code",
      "source": [
        "num_tree.search(20)"
      ],
      "metadata": {
        "id": "nl-h5zDWKo4X",
        "outputId": "f4db3741-8cc1-477a-99a6-247ee3fe7c84",
        "colab": {
          "base_uri": "https://localhost:8080/"
        }
      },
      "execution_count": null,
      "outputs": [
        {
          "output_type": "execute_result",
          "data": {
            "text/plain": [
              "True"
            ]
          },
          "metadata": {},
          "execution_count": 81
        }
      ]
    },
    {
      "cell_type": "code",
      "source": [
        "num_tree.find_min()"
      ],
      "metadata": {
        "id": "KzZ8JWt6MOvV",
        "outputId": "91814337-bf87-4b8f-8b67-9b759f96865a",
        "colab": {
          "base_uri": "https://localhost:8080/"
        }
      },
      "execution_count": null,
      "outputs": [
        {
          "output_type": "stream",
          "name": "stdout",
          "text": [
            "7\n"
          ]
        }
      ]
    },
    {
      "cell_type": "code",
      "source": [
        "num_tree.find_max()"
      ],
      "metadata": {
        "id": "wkBzKPtcQIIb",
        "outputId": "828085a7-6553-4af4-e365-4028e3b70302",
        "colab": {
          "base_uri": "https://localhost:8080/"
        }
      },
      "execution_count": null,
      "outputs": [
        {
          "output_type": "stream",
          "name": "stdout",
          "text": [
            "88\n"
          ]
        }
      ]
    },
    {
      "cell_type": "code",
      "source": [
        "num_tree.calculate_sum()"
      ],
      "metadata": {
        "id": "VFX9Fp8DQls4",
        "outputId": "1778fbbf-e88b-4d0e-c213-a02d41c63b03",
        "colab": {
          "base_uri": "https://localhost:8080/"
        }
      },
      "execution_count": null,
      "outputs": [
        {
          "output_type": "stream",
          "name": "stdout",
          "text": [
            "206\n"
          ]
        }
      ]
    },
    {
      "cell_type": "code",
      "source": [
        "print(num_tree.post_order_traversal())"
      ],
      "metadata": {
        "id": "g_GWIj6HRgPs",
        "outputId": "88603ede-f474-4a73-84de-8e58bb90a799",
        "colab": {
          "base_uri": "https://localhost:8080/"
        }
      },
      "execution_count": null,
      "outputs": [
        {
          "output_type": "stream",
          "name": "stdout",
          "text": [
            "[7, 14, 12, 23, 20, 88, 27, 15]\n"
          ]
        }
      ]
    },
    {
      "cell_type": "code",
      "source": [
        "print(num_tree.pre_order_traversal())"
      ],
      "metadata": {
        "id": "dQbqv5K6S8kN",
        "outputId": "608f1ea1-fcab-4357-9767-840065be45ca",
        "colab": {
          "base_uri": "https://localhost:8080/"
        }
      },
      "execution_count": null,
      "outputs": [
        {
          "output_type": "stream",
          "name": "stdout",
          "text": [
            "[15, 12, 7, 14, 27, 20, 23, 88]\n"
          ]
        }
      ]
    },
    {
      "cell_type": "code",
      "source": [
        "countries = [\"India\",\"Pakistan\",\"Germany\", \"USA\",\"China\",\"India\",\"UK\",\"USA\"]\n",
        "country_tree = build_tree(countries)\n",
        "\n",
        "print(\"UK is in the list? \", country_tree.search(\"UK\"))\n",
        "print(\"Sweden is in the list? \", country_tree.search(\"Sweden\"))\n",
        "print(country_tree.in_order_traversal())\n"
      ],
      "metadata": {
        "id": "4fPQCxD7LC4f",
        "outputId": "e761c593-a031-4dc4-ff42-27831c617c5a",
        "colab": {
          "base_uri": "https://localhost:8080/"
        }
      },
      "execution_count": null,
      "outputs": [
        {
          "output_type": "stream",
          "name": "stdout",
          "text": [
            "Building tree with these elements: ['India', 'Pakistan', 'Germany', 'USA', 'China', 'India', 'UK', 'USA']\n",
            "UK is in the list?  True\n",
            "Sweden is in the list?  False\n",
            "['China', 'Germany', 'India', 'Pakistan', 'UK', 'USA']\n"
          ]
        }
      ]
    },
    {
      "cell_type": "markdown",
      "source": [
        "## Graph\n",
        "Can have undirected graphs or directed graphs or weighted graphs"
      ],
      "metadata": {
        "id": "Lv8FMU8WXqZD"
      }
    },
    {
      "cell_type": "code",
      "source": [],
      "metadata": {
        "id": "-bgdvbL7Xr98"
      },
      "execution_count": null,
      "outputs": []
    },
    {
      "cell_type": "markdown",
      "source": [
        "## Binary Search"
      ],
      "metadata": {
        "id": "L6DPHuW9jHKW"
      }
    },
    {
      "cell_type": "code",
      "source": [
        "import math\n",
        "\n",
        "def linear_search(num_arr,num_to_search):\n",
        "  for index,num in enumerate(num_arr):\n",
        "      if num == num_to_search:\n",
        "        return index\n",
        "\n",
        "def binary_search(num_arr, start_index, end_index, num_to_search):\n",
        "    middle_index = math.ceil((start_index + end_index) / 2)\n",
        "    middle_number = num_arr[middle_index]\n",
        "\n",
        "    if start_index == end_index and num_arr[start_index] == num_to_search:\n",
        "      return start_index\n",
        "    elif start_index == end_index and  num_arr[start_index] != num_to_search:\n",
        "      return -1\n",
        "\n",
        "    if num_to_search == middle_number :\n",
        "      return middle_index\n",
        "\n",
        "    if num_to_search < middle_number :\n",
        "      return binary_search(num_arr, start_index, middle_index-1, num_to_search)\n",
        "\n",
        "    if num_to_search > middle_number :\n",
        "      return binary_search(num_arr, middle_index+1, len(num_arr)-1,num_to_search)\n",
        "\n"
      ],
      "metadata": {
        "id": "9hiY8Y6OjNx4"
      },
      "execution_count": 205,
      "outputs": []
    },
    {
      "cell_type": "code",
      "source": [
        "num_arr = [1, 2, 5, 20, 34, 45, 56, 67, 89]\n",
        "index_found = linear_search(num_arr,56)\n",
        "index_found"
      ],
      "metadata": {
        "id": "A5byA6crjWCF",
        "outputId": "63eb95e9-4de4-449c-f379-03454611547d",
        "colab": {
          "base_uri": "https://localhost:8080/"
        }
      },
      "execution_count": 206,
      "outputs": [
        {
          "output_type": "execute_result",
          "data": {
            "text/plain": [
              "6"
            ]
          },
          "metadata": {},
          "execution_count": 206
        }
      ]
    },
    {
      "cell_type": "code",
      "source": [
        "index_found = binary_search(num_arr,0, len(num_arr)-1, 20)\n",
        "print(index_found)"
      ],
      "metadata": {
        "id": "P6L0ss_xkh5g",
        "outputId": "30f9e4d2-a7d0-45a7-eaf7-611f234b6e76",
        "colab": {
          "base_uri": "https://localhost:8080/"
        }
      },
      "execution_count": 208,
      "outputs": [
        {
          "output_type": "stream",
          "name": "stdout",
          "text": [
            "3\n"
          ]
        }
      ]
    },
    {
      "cell_type": "markdown",
      "source": [
        "## Bubble Sort\n",
        "Time Complexity = O(n**2)"
      ],
      "metadata": {
        "id": "FqKSta5vVJhM"
      }
    },
    {
      "cell_type": "code",
      "source": [
        "def bubble_sort(array_to_sort):\n",
        "    for element in array_to_sort:\n",
        "      for i in range(0,len(array_to_sort)-1):\n",
        "        if array_to_sort[i] > array_to_sort[i+1]:\n",
        "          array_to_sort[i], array_to_sort[i+1] = array_to_sort[i+1], array_to_sort[i]\n",
        "    return array_to_sort"
      ],
      "metadata": {
        "id": "IDbKJ_YKVNxO"
      },
      "execution_count": 221,
      "outputs": []
    },
    {
      "cell_type": "code",
      "source": [
        "arr = [30,3,5,8,2,9]\n",
        "sorted_arr = bubble_sort(arr)\n",
        "sorted_arr"
      ],
      "metadata": {
        "id": "p0poTAOcWz4Y",
        "outputId": "fc654339-429d-41dd-f5bf-9fe0995a3e86",
        "colab": {
          "base_uri": "https://localhost:8080/"
        }
      },
      "execution_count": 222,
      "outputs": [
        {
          "output_type": "execute_result",
          "data": {
            "text/plain": [
              "[2, 3, 5, 8, 9, 30]"
            ]
          },
          "metadata": {},
          "execution_count": 222
        }
      ]
    },
    {
      "cell_type": "code",
      "source": [
        "arr = [0]\n",
        "sorted_arr = bubble_sort(arr)\n",
        "sorted_arr"
      ],
      "metadata": {
        "id": "5S6YlfLIf3gM",
        "outputId": "006950fa-d62a-4be1-c734-f0e8ec425e7c",
        "colab": {
          "base_uri": "https://localhost:8080/"
        }
      },
      "execution_count": 224,
      "outputs": [
        {
          "output_type": "execute_result",
          "data": {
            "text/plain": [
              "[0]"
            ]
          },
          "metadata": {},
          "execution_count": 224
        }
      ]
    }
  ]
}