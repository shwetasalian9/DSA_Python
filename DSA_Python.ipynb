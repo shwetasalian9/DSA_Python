{
  "nbformat": 4,
  "nbformat_minor": 0,
  "metadata": {
    "colab": {
      "provenance": [],
      "authorship_tag": "ABX9TyPb+bYj4wf5opm+Yv4p+5/h",
      "include_colab_link": true
    },
    "kernelspec": {
      "name": "python3",
      "display_name": "Python 3"
    },
    "language_info": {
      "name": "python"
    }
  },
  "cells": [
    {
      "cell_type": "markdown",
      "metadata": {
        "id": "view-in-github",
        "colab_type": "text"
      },
      "source": [
        "<a href=\"https://colab.research.google.com/github/shwetasalian9/DSA_Python/blob/main/DSA_Python.ipynb\" target=\"_parent\"><img src=\"https://colab.research.google.com/assets/colab-badge.svg\" alt=\"Open In Colab\"/></a>"
      ]
    },
    {
      "cell_type": "markdown",
      "source": [
        "Array DataStructure"
      ],
      "metadata": {
        "id": "8ihogwhJ35FE"
      }
    },
    {
      "cell_type": "markdown",
      "source": [
        "Let us say your expense for every month are listed below,\n",
        "January - 2200\n",
        "February - 2350\n",
        "March - 2600\n",
        "April - 2130\n",
        "May - 2190\n",
        "Create a list to store these monthly expenses and using that find out,"
      ],
      "metadata": {
        "id": "4d4aPRrN4C5B"
      }
    },
    {
      "cell_type": "markdown",
      "source": [
        "In Feb, how many dollars you spent extra compare to January?"
      ],
      "metadata": {
        "id": "-JvuNZd-4Sda"
      }
    },
    {
      "cell_type": "code",
      "execution_count": null,
      "metadata": {
        "id": "jP8yHoFm3h4U"
      },
      "outputs": [],
      "source": [
        "expense = [2200, 2350, 2600, 2130]"
      ]
    },
    {
      "cell_type": "code",
      "source": [
        "extra_spent_on_feb = expense[1] - expense[0]\n",
        "extra_spent_on_feb"
      ],
      "metadata": {
        "id": "bAt1zVIu4rhk",
        "outputId": "382b2216-91ca-4d03-d3f9-003e68b5cd08",
        "colab": {
          "base_uri": "https://localhost:8080/"
        }
      },
      "execution_count": null,
      "outputs": [
        {
          "output_type": "execute_result",
          "data": {
            "text/plain": [
              "150"
            ]
          },
          "metadata": {},
          "execution_count": 2
        }
      ]
    },
    {
      "cell_type": "markdown",
      "source": [
        "Find out your total expense in first quarter (first three months) of the year."
      ],
      "metadata": {
        "id": "C7dkr3nx47YF"
      }
    },
    {
      "cell_type": "code",
      "source": [
        "total_expense_first_quarter = expense[0] + expense[1] + expense[2]\n",
        "total_expense_first_quarter"
      ],
      "metadata": {
        "id": "aeY09hpk5xI_",
        "outputId": "cdf03d0e-15a0-405e-dc3a-dac8db275e16",
        "colab": {
          "base_uri": "https://localhost:8080/"
        }
      },
      "execution_count": null,
      "outputs": [
        {
          "output_type": "execute_result",
          "data": {
            "text/plain": [
              "7150"
            ]
          },
          "metadata": {},
          "execution_count": 3
        }
      ]
    },
    {
      "cell_type": "markdown",
      "source": [
        "Find out if you spent exactly 2000 dollars in any month"
      ],
      "metadata": {
        "id": "ERgHmNe56cIB"
      }
    },
    {
      "cell_type": "code",
      "source": [
        "for exp in expense:\n",
        "  if exp == 2000 :\n",
        "    print(\"Expense spent 2000\")\n",
        "    break"
      ],
      "metadata": {
        "id": "34aZ_Adj6fFq"
      },
      "execution_count": 8,
      "outputs": []
    },
    {
      "cell_type": "markdown",
      "source": [
        "June month just finished and your expense is 1980 dollar. Add this item to our monthly expense list"
      ],
      "metadata": {
        "id": "3RMFJZzd67Av"
      }
    },
    {
      "cell_type": "code",
      "source": [
        "expense.append(1980)\n",
        "expense"
      ],
      "metadata": {
        "id": "e0AJbMcl7CaI",
        "outputId": "04f469d7-7df9-4f6d-9e15-7a6c9c69803e",
        "colab": {
          "base_uri": "https://localhost:8080/"
        }
      },
      "execution_count": 9,
      "outputs": [
        {
          "output_type": "execute_result",
          "data": {
            "text/plain": [
              "[2200, 2350, 2600, 2130, 1980]"
            ]
          },
          "metadata": {},
          "execution_count": 9
        }
      ]
    },
    {
      "cell_type": "markdown",
      "source": [
        "You returned an item that you bought in a month of April and\n",
        "got a refund of 200$. Make a correction to your monthly expense list\n",
        "based on this"
      ],
      "metadata": {
        "id": "xUA_OVhW7KnE"
      }
    },
    {
      "cell_type": "code",
      "source": [
        "expense[3] = expense[3] - 200\n",
        "expense"
      ],
      "metadata": {
        "id": "NnhE8lpy7VVJ",
        "outputId": "a07421a1-25cb-4952-947d-8b575980cb83",
        "colab": {
          "base_uri": "https://localhost:8080/"
        }
      },
      "execution_count": 10,
      "outputs": [
        {
          "output_type": "execute_result",
          "data": {
            "text/plain": [
              "[2200, 2350, 2600, 1930, 1980]"
            ]
          },
          "metadata": {},
          "execution_count": 10
        }
      ]
    },
    {
      "cell_type": "markdown",
      "source": [
        "You have a list of your favourite marvel super heros."
      ],
      "metadata": {
        "id": "zbZNjDTV7j4M"
      }
    },
    {
      "cell_type": "code",
      "source": [
        "heros=['spider man','thor','hulk','iron man','captain america']"
      ],
      "metadata": {
        "id": "hihFFYXr7lin"
      },
      "execution_count": 11,
      "outputs": []
    },
    {
      "cell_type": "markdown",
      "source": [
        "1. Length of the list"
      ],
      "metadata": {
        "id": "-WL0Qyjr7wPA"
      }
    },
    {
      "cell_type": "code",
      "source": [
        "length_heros = len(heros)\n",
        "length_heros"
      ],
      "metadata": {
        "id": "PdxgMjan7tNz",
        "outputId": "d6ee6e1a-57b3-4870-b181-bee7bdd69397",
        "colab": {
          "base_uri": "https://localhost:8080/"
        }
      },
      "execution_count": 12,
      "outputs": [
        {
          "output_type": "execute_result",
          "data": {
            "text/plain": [
              "5"
            ]
          },
          "metadata": {},
          "execution_count": 12
        }
      ]
    },
    {
      "cell_type": "markdown",
      "source": [
        "2. Add 'black panther' at the end of this list"
      ],
      "metadata": {
        "id": "OiD7OHsu79nJ"
      }
    },
    {
      "cell_type": "code",
      "source": [
        "heros.append('black panther')\n",
        "heros"
      ],
      "metadata": {
        "id": "S-sMcghU782G",
        "outputId": "d86d1fdb-1231-43a3-908a-05088e1f2048",
        "colab": {
          "base_uri": "https://localhost:8080/"
        }
      },
      "execution_count": 13,
      "outputs": [
        {
          "output_type": "execute_result",
          "data": {
            "text/plain": [
              "['spider man', 'thor', 'hulk', 'iron man', 'captain america', 'black panther']"
            ]
          },
          "metadata": {},
          "execution_count": 13
        }
      ]
    },
    {
      "cell_type": "markdown",
      "source": [
        "3. You realize that you need to add 'black panther' after 'hulk',\n",
        "   so remove it from the list first and then add it after 'hulk'"
      ],
      "metadata": {
        "id": "gjSIkVou8FYL"
      }
    },
    {
      "cell_type": "code",
      "source": [
        "heros.remove('black panther')\n",
        "print(heros)"
      ],
      "metadata": {
        "id": "auqZDTJX8MzU",
        "outputId": "5eae1c3b-91b7-4586-8f7f-44edf2ca4315",
        "colab": {
          "base_uri": "https://localhost:8080/"
        }
      },
      "execution_count": 14,
      "outputs": [
        {
          "output_type": "stream",
          "name": "stdout",
          "text": [
            "['spider man', 'thor', 'hulk', 'iron man', 'captain america']\n"
          ]
        }
      ]
    },
    {
      "cell_type": "code",
      "source": [
        "heros.insert(3, 'black panther')\n",
        "heros"
      ],
      "metadata": {
        "id": "Suk8R-mv8crb",
        "outputId": "1e6cfb49-4af6-4dc5-a300-0967e560e217",
        "colab": {
          "base_uri": "https://localhost:8080/"
        }
      },
      "execution_count": 17,
      "outputs": [
        {
          "output_type": "execute_result",
          "data": {
            "text/plain": [
              "['spider man', 'thor', 'hulk', 'black panther', 'iron man', 'captain america']"
            ]
          },
          "metadata": {},
          "execution_count": 17
        }
      ]
    },
    {
      "cell_type": "markdown",
      "source": [
        "4. Now you don't like thor and hulk because they get angry easily :)\n",
        "   So you want to remove thor and hulk from list and replace them with doctor strange (because he is cool).\n",
        "   Do that with one line of code."
      ],
      "metadata": {
        "id": "Pq1e4C389TY8"
      }
    },
    {
      "cell_type": "code",
      "source": [
        "heros[1] = heros[2] = 'doctor strange'\n",
        "heros"
      ],
      "metadata": {
        "id": "yU67P9cK9Ura",
        "outputId": "d41bfffd-26d3-4816-d1f2-ca79bc487ce1",
        "colab": {
          "base_uri": "https://localhost:8080/"
        }
      },
      "execution_count": 18,
      "outputs": [
        {
          "output_type": "execute_result",
          "data": {
            "text/plain": [
              "['spider man',\n",
              " 'doctor strange',\n",
              " 'doctor strange',\n",
              " 'black panther',\n",
              " 'iron man',\n",
              " 'captain america']"
            ]
          },
          "metadata": {},
          "execution_count": 18
        }
      ]
    },
    {
      "cell_type": "markdown",
      "source": [
        "5. Sort the heros list in alphabetical order (Hint. Use dir() functions to list down all functions available in list)\n"
      ],
      "metadata": {
        "id": "ewElxCmg914l"
      }
    },
    {
      "cell_type": "code",
      "source": [
        "dir(heros)"
      ],
      "metadata": {
        "id": "mdttk4kY9280",
        "outputId": "d4a73a5d-eb71-47a9-b5ba-9619acd55afd",
        "colab": {
          "base_uri": "https://localhost:8080/"
        }
      },
      "execution_count": 21,
      "outputs": [
        {
          "output_type": "execute_result",
          "data": {
            "text/plain": [
              "['__add__',\n",
              " '__class__',\n",
              " '__class_getitem__',\n",
              " '__contains__',\n",
              " '__delattr__',\n",
              " '__delitem__',\n",
              " '__dir__',\n",
              " '__doc__',\n",
              " '__eq__',\n",
              " '__format__',\n",
              " '__ge__',\n",
              " '__getattribute__',\n",
              " '__getitem__',\n",
              " '__gt__',\n",
              " '__hash__',\n",
              " '__iadd__',\n",
              " '__imul__',\n",
              " '__init__',\n",
              " '__init_subclass__',\n",
              " '__iter__',\n",
              " '__le__',\n",
              " '__len__',\n",
              " '__lt__',\n",
              " '__mul__',\n",
              " '__ne__',\n",
              " '__new__',\n",
              " '__reduce__',\n",
              " '__reduce_ex__',\n",
              " '__repr__',\n",
              " '__reversed__',\n",
              " '__rmul__',\n",
              " '__setattr__',\n",
              " '__setitem__',\n",
              " '__sizeof__',\n",
              " '__str__',\n",
              " '__subclasshook__',\n",
              " 'append',\n",
              " 'clear',\n",
              " 'copy',\n",
              " 'count',\n",
              " 'extend',\n",
              " 'index',\n",
              " 'insert',\n",
              " 'pop',\n",
              " 'remove',\n",
              " 'reverse',\n",
              " 'sort']"
            ]
          },
          "metadata": {},
          "execution_count": 21
        }
      ]
    },
    {
      "cell_type": "code",
      "source": [
        "heros.sort()\n",
        "heros"
      ],
      "metadata": {
        "id": "EpsBlEn2-SgN",
        "outputId": "209e2843-4856-4443-d320-69b9747d4033",
        "colab": {
          "base_uri": "https://localhost:8080/"
        }
      },
      "execution_count": 25,
      "outputs": [
        {
          "output_type": "execute_result",
          "data": {
            "text/plain": [
              "['black panther',\n",
              " 'captain america',\n",
              " 'doctor strange',\n",
              " 'doctor strange',\n",
              " 'iron man',\n",
              " 'spider man']"
            ]
          },
          "metadata": {},
          "execution_count": 25
        }
      ]
    },
    {
      "cell_type": "markdown",
      "source": [
        "Create a list of all odd numbers between 1 and a max number. Max number is something you need to take from a user using input() function"
      ],
      "metadata": {
        "id": "WU47qVkr_K1_"
      }
    },
    {
      "cell_type": "code",
      "source": [
        "n = int(input(\"Enter the max number:\"))\n",
        "\n",
        "odd_nos = []\n",
        "\n",
        "for i in range(1,n) :\n",
        "  if i%2 != 0 :\n",
        "    odd_nos.append(i)\n",
        "\n",
        "odd_nos"
      ],
      "metadata": {
        "id": "NbG-hnKF_L0E",
        "outputId": "44298fc4-ab75-435f-e18a-150beb52a7dd",
        "colab": {
          "base_uri": "https://localhost:8080/"
        }
      },
      "execution_count": 28,
      "outputs": [
        {
          "name": "stdout",
          "output_type": "stream",
          "text": [
            "Enter the max number:30\n"
          ]
        },
        {
          "output_type": "execute_result",
          "data": {
            "text/plain": [
              "[1, 3, 5, 7, 9, 11, 13, 15, 17, 19, 21, 23, 25, 27, 29]"
            ]
          },
          "metadata": {},
          "execution_count": 28
        }
      ]
    }
  ]
}