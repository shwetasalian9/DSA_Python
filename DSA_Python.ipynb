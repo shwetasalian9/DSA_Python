{
  "nbformat": 4,
  "nbformat_minor": 0,
  "metadata": {
    "colab": {
      "provenance": [],
      "authorship_tag": "ABX9TyMdXeD4IOTdf1seGo7RYqvF",
      "include_colab_link": true
    },
    "kernelspec": {
      "name": "python3",
      "display_name": "Python 3"
    },
    "language_info": {
      "name": "python"
    }
  },
  "cells": [
    {
      "cell_type": "markdown",
      "metadata": {
        "id": "view-in-github",
        "colab_type": "text"
      },
      "source": [
        "<a href=\"https://colab.research.google.com/github/shwetasalian9/DSA_Python/blob/main/DSA_Python.ipynb\" target=\"_parent\"><img src=\"https://colab.research.google.com/assets/colab-badge.svg\" alt=\"Open In Colab\"/></a>"
      ]
    },
    {
      "cell_type": "markdown",
      "source": [
        "Array DataStructure"
      ],
      "metadata": {
        "id": "8ihogwhJ35FE"
      }
    },
    {
      "cell_type": "markdown",
      "source": [
        "Let us say your expense for every month are listed below,\n",
        "January - 2200\n",
        "February - 2350\n",
        "March - 2600\n",
        "April - 2130\n",
        "May - 2190\n",
        "Create a list to store these monthly expenses and using that find out,"
      ],
      "metadata": {
        "id": "4d4aPRrN4C5B"
      }
    },
    {
      "cell_type": "markdown",
      "source": [
        "In Feb, how many dollars you spent extra compare to January?"
      ],
      "metadata": {
        "id": "-JvuNZd-4Sda"
      }
    },
    {
      "cell_type": "code",
      "execution_count": 1,
      "metadata": {
        "id": "jP8yHoFm3h4U"
      },
      "outputs": [],
      "source": [
        "expense = [2200, 2350, 2600, 2130]"
      ]
    },
    {
      "cell_type": "code",
      "source": [
        "extra_spent_on_feb = expense[1] - expense[0]\n",
        "extra_spent_on_feb"
      ],
      "metadata": {
        "id": "bAt1zVIu4rhk",
        "outputId": "382b2216-91ca-4d03-d3f9-003e68b5cd08",
        "colab": {
          "base_uri": "https://localhost:8080/"
        }
      },
      "execution_count": 2,
      "outputs": [
        {
          "output_type": "execute_result",
          "data": {
            "text/plain": [
              "150"
            ]
          },
          "metadata": {},
          "execution_count": 2
        }
      ]
    },
    {
      "cell_type": "markdown",
      "source": [
        "Find out your total expense in first quarter (first three months) of the year."
      ],
      "metadata": {
        "id": "C7dkr3nx47YF"
      }
    },
    {
      "cell_type": "code",
      "source": [
        "total_expense_first_quarter = expense[0] + expense[1] + expense[2]\n",
        "total_expense_first_quarter"
      ],
      "metadata": {
        "id": "aeY09hpk5xI_",
        "outputId": "cdf03d0e-15a0-405e-dc3a-dac8db275e16",
        "colab": {
          "base_uri": "https://localhost:8080/"
        }
      },
      "execution_count": 3,
      "outputs": [
        {
          "output_type": "execute_result",
          "data": {
            "text/plain": [
              "7150"
            ]
          },
          "metadata": {},
          "execution_count": 3
        }
      ]
    }
  ]
}